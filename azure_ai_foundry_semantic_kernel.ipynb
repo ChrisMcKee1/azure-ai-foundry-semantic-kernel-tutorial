{
 "cells": [
  {
   "cell_type": "markdown",
   "id": "e92bebd8",
   "metadata": {},
   "source": [
    "# Azure AI Foundry + Semantic Kernel: Code Interpreter Tutorial\n",
    "\n",
    "A clean, educational example showing how to:\n",
    "1. Create an Azure AI Foundry agent with code interpreter\n",
    "2. Wrap it with Semantic Kernel for conversation management  \n",
    "3. Generate files with the agent\n",
    "4. Retrieve and save files locally\n",
    "5. Clean up resources properly\n",
    "\n",
    "## Prerequisites\n",
    "- Azure AI Foundry project with agent service enabled\n",
    "- Environment variables: `PROJECT_ENDPOINT`, `MODEL_DEPLOYMENT_NAME`\n",
    "- Libraries: `semantic-kernel>=1.37.0`, `azure-ai-agents>=1.2.0b4`"
   ]
  },
  {
   "cell_type": "markdown",
   "id": "144034d7",
   "metadata": {},
   "source": [
    "## 1. Import Libraries & Setup"
   ]
  },
  {
   "cell_type": "code",
   "execution_count": 30,
   "id": "2d3c76e0",
   "metadata": {},
   "outputs": [
    {
     "name": "stdout",
     "output_type": "stream",
     "text": [
      "✅ Setup complete!\n"
     ]
    }
   ],
   "source": [
    "import os\n",
    "import nest_asyncio\n",
    "from pathlib import Path\n",
    "from dotenv import load_dotenv\n",
    "\n",
    "# Azure credentials\n",
    "from azure.identity import DefaultAzureCredential\n",
    "\n",
    "# Azure AI Foundry SDK - Unified approach for agent creation\n",
    "from azure.ai.projects import AIProjectClient\n",
    "\n",
    "# Semantic Kernel - SK client creation and agents\n",
    "from semantic_kernel.agents import AzureAIAgent, AzureAIAgentThread\n",
    "\n",
    "# Setup\n",
    "nest_asyncio.apply()\n",
    "load_dotenv()\n",
    "\n",
    "# Create downloads directory\n",
    "downloads_dir = Path.cwd() / \"azure_ai_files\" / \"downloads\"\n",
    "downloads_dir.mkdir(parents=True, exist_ok=True)\n",
    "\n",
    "print(\"✅ Setup complete!\")"
   ]
  },
  {
   "cell_type": "markdown",
   "id": "cfdf353b",
   "metadata": {},
   "source": [
    "## 2. Create Azure AI Foundry Agent"
   ]
  },
  {
   "cell_type": "code",
   "execution_count": 31,
   "id": "c368b8d7",
   "metadata": {},
   "outputs": [
    {
     "name": "stdout",
     "output_type": "stream",
     "text": [
      "✅ Agent created: asst_tbqLZ7NsPFxYnUzN2ZDvkTHh\n"
     ]
    }
   ],
   "source": [
    "# Create unified client using Semantic Kernel's recommended approach  \n",
    "credential = DefaultAzureCredential()\n",
    "\n",
    "# Use AzureAIAgent.create_client() for all Semantic Kernel operations\n",
    "client = AzureAIAgent.create_client(\n",
    "    credential=credential, \n",
    "    endpoint=os.environ[\"PROJECT_ENDPOINT\"]\n",
    ")\n",
    "\n",
    "# Create agent with code interpreter using unified client\n",
    "agent_definition = await client.agents.create_agent(\n",
    "    model=os.environ[\"MODEL_DEPLOYMENT_NAME\"],\n",
    "    name=\"ChartAgent\",\n",
    "    instructions=\"Create data visualizations and save as files.\",\n",
    "    tools=[{\"type\": \"code_interpreter\"}]\n",
    ")\n",
    "\n",
    "print(f\"✅ Agent created: {agent_definition.id}\")"
   ]
  },
  {
   "cell_type": "markdown",
   "id": "5ff6b171",
   "metadata": {},
   "source": [
    "## 3. Create Semantic Kernel Wrapper & Thread"
   ]
  },
  {
   "cell_type": "code",
   "execution_count": 32,
   "id": "d5856776",
   "metadata": {},
   "outputs": [
    {
     "name": "stdout",
     "output_type": "stream",
     "text": [
      "✅ Semantic Kernel agent and thread ready\n"
     ]
    }
   ],
   "source": [
    "# Create Semantic Kernel agent wrapper and thread using the same client\n",
    "agent = AzureAIAgent(client=client, definition=agent_definition)\n",
    "thread = AzureAIAgentThread(client=client)\n",
    "\n",
    "print(\"✅ Semantic Kernel agent and thread ready\")"
   ]
  },
  {
   "cell_type": "markdown",
   "id": "5725f72f",
   "metadata": {},
   "source": [
    "## 4. Chat with Agent (Generate Files)"
   ]
  },
  {
   "cell_type": "code",
   "execution_count": 33,
   "id": "dd967498",
   "metadata": {},
   "outputs": [
    {
     "name": "stdout",
     "output_type": "stream",
     "text": [
      "import matplotlib.pyplot as plt\n",
      "\n",
      "# Data\n",
      "months = ['Jan', 'Feb', 'Mar', 'Apr', 'May', 'Jun']\n",
      "values = [31, 28, 31, 30, 31, 30]\n",
      "colors = ['#FF9999', '#66B3FF', '#99FF99', '#FFD700', '#FFB6C1', '#A9A9F5'] # Colorful palette\n",
      "\n",
      "# Create Bar Chart\n",
      "plt.figure(figsize=(8,5))\n",
      "bars = plt.bar(months, values, color=colors, edgecolor='black')\n",
      "plt.title('Monthly Data')\n",
      "plt.xlabel('Months')\n",
      "plt.ylabel('Value')\n",
      "plt.ylim([0,35])\n",
      "\n",
      "# Save Figure\n",
      "file_path = '/mnt/data/monthly_bar_chart.png'\n",
      "plt.savefig(file_path, bbox_inches='tight')\n",
      "plt.close()\n",
      "\n",
      "file_path\n",
      "The colorful bar chart showing the monthly data has been created and saved as a file. You can download it using the link below:\n",
      "\n",
      "[Download monthly_bar_chart.png](sandbox:/mnt/data/monthly_bar_chart.png)\n",
      "\n",
      "✅ Agent response complete\n",
      "The colorful bar chart showing the monthly data has been created and saved as a file. You can download it using the link below:\n",
      "\n",
      "[Download monthly_bar_chart.png](sandbox:/mnt/data/monthly_bar_chart.png)\n",
      "\n",
      "✅ Agent response complete\n"
     ]
    }
   ],
   "source": [
    "# Ask agent to create a chart\n",
    "message = \"Create a colorful bar chart showing monthly data (Jan=31, Feb=28, Mar=31, Apr=30, May=31, Jun=30) and save as a file.\"\n",
    "\n",
    "async for response in agent.invoke(messages=message, thread=thread):\n",
    "    print(response.content)\n",
    "\n",
    "print(\"\\n✅ Agent response complete\")"
   ]
  },
  {
   "cell_type": "markdown",
   "id": "3778707b",
   "metadata": {},
   "source": [
    "## 5. Collect File IDs from Chat Response"
   ]
  },
  {
   "cell_type": "code",
   "execution_count": 34,
   "id": "dc308c94",
   "metadata": {},
   "outputs": [
    {
     "name": "stdout",
     "output_type": "stream",
     "text": [
      "📁 Found file ID in item: assistant-9Wv7XABsA96noA9QjBzf4R\n",
      "📋 Collected file IDs: ['assistant-9Wv7XABsA96noA9QjBzf4R']\n",
      "📄 Total files to download: 1\n"
     ]
    }
   ],
   "source": [
    "# Extract file IDs from the response items\n",
    "file_ids = []\n",
    "\n",
    "# Check for any items with file_id attribute\n",
    "for item in response.items:\n",
    "    if hasattr(item, 'file_id') and item.file_id:\n",
    "        file_ids.append(item.file_id)\n",
    "        print(f\"📁 Found file ID in item: {item.file_id}\")\n",
    "\n",
    "# Alternative: Look for FileReferenceContent in the response items\n",
    "if not file_ids:\n",
    "    for item in response.items:\n",
    "        if hasattr(item, 'content_type') and item.content_type == 'file_reference':\n",
    "            if hasattr(item, 'file_id') and item.file_id:\n",
    "                file_ids.append(item.file_id)\n",
    "                print(f\"📁 Found file reference: {item.file_id}\")\n",
    "\n",
    "\n",
    "print(f\"📋 Collected file IDs: {file_ids}\")\n",
    "print(f\"📄 Total files to download: {len(file_ids)}\")\n",
    "\n",
    "# Optional: Fallback to thread messages if no files found in response\n",
    "if not file_ids:\n",
    "    print(\"⚠️ No files found in response. Checking thread messages as backup...\")\n",
    "    messages = project_client.agents.list_messages(thread_id=thread.id, order=\"asc\")\n",
    "    \n",
    "    for msg in messages.data:\n",
    "        if msg.role == \"assistant\":\n",
    "            # Check for image files and annotations\n",
    "            if hasattr(msg, 'image_contents'):\n",
    "                for img in msg.image_contents:\n",
    "                    if hasattr(img, 'image_file') and hasattr(img.image_file, 'file_id'):\n",
    "                        file_id = img.image_file.file_id\n",
    "                        if file_id not in file_ids:\n",
    "                            file_ids.append(file_id)\n",
    "                            print(f\"🖼️ Found image file: {file_id}\")\n",
    "            \n",
    "            if hasattr(msg, 'file_path_annotations'):\n",
    "                for ann in msg.file_path_annotations:\n",
    "                    if hasattr(ann, 'file_path') and hasattr(ann.file_path, 'file_id'):\n",
    "                        file_id = ann.file_path.file_id\n",
    "                        if file_id not in file_ids:\n",
    "                            file_ids.append(file_id)\n",
    "                            print(f\"📄 Found file annotation: {file_id}\")\n",
    "    \n",
    "    print(f\"📄 Total files found: {len(file_ids)}\")"
   ]
  },
  {
   "cell_type": "markdown",
   "id": "211a79c7",
   "metadata": {},
   "source": [
    "## 6. Retrieve File Contents & Save Locally"
   ]
  },
  {
   "cell_type": "code",
   "execution_count": 35,
   "id": "65483476",
   "metadata": {},
   "outputs": [
    {
     "name": "stdout",
     "output_type": "stream",
     "text": [
      "📁 Retrieving content for file 1: assistant-9Wv7XABsA96noA9QjBzf4R\n",
      "✅ Downloaded: c:\\Users\\chrismckee\\Documents\\GitHub\\SKNotebooks\\azure_ai_files\\downloads\\chart_1_assistan.png\n",
      "\n",
      "🎉 Files downloaded to: c:\\Users\\chrismckee\\Documents\\GitHub\\SKNotebooks\\azure_ai_files\\downloads\n",
      "✅ Downloaded: c:\\Users\\chrismckee\\Documents\\GitHub\\SKNotebooks\\azure_ai_files\\downloads\\chart_1_assistan.png\n",
      "\n",
      "🎉 Files downloaded to: c:\\Users\\chrismckee\\Documents\\GitHub\\SKNotebooks\\azure_ai_files\\downloads\n"
     ]
    }
   ],
   "source": [
    "# Retrieve file contents and save locally using unified client approach\n",
    "for i, file_id in enumerate(file_ids, 1):\n",
    "    try:\n",
    "        print(f\"📁 Retrieving content for file {i}: {file_id}\")\n",
    "        \n",
    "        # Use unified client for file operations - handle async generator correctly\n",
    "        file_content_generator = await client.agents.files.get_content(file_id)\n",
    "        \n",
    "        # Collect all byte chunks from the async generator\n",
    "        file_data = b''\n",
    "        async for chunk in file_content_generator:\n",
    "            file_data += chunk\n",
    "        \n",
    "        # Save content to local file\n",
    "        filename = f\"chart_{i}_{file_id[:8]}.png\"\n",
    "        file_path = downloads_dir / filename\n",
    "        \n",
    "        with open(file_path, 'wb') as f:\n",
    "            f.write(file_data)\n",
    "        \n",
    "        print(f\"✅ Downloaded: {file_path}\")\n",
    "        \n",
    "    except Exception as e:\n",
    "        print(f\"❌ Error retrieving {file_id}: {e}\")\n",
    "\n",
    "print(f\"\\n🎉 Files downloaded to: {downloads_dir}\")"
   ]
  },
  {
   "cell_type": "markdown",
   "id": "2fa297d5",
   "metadata": {},
   "source": [
    "## 7. Cleanup Resources"
   ]
  },
  {
   "cell_type": "code",
   "execution_count": 36,
   "id": "05c4aab5",
   "metadata": {},
   "outputs": [
    {
     "name": "stdout",
     "output_type": "stream",
     "text": [
      "✅ Thread deleted\n",
      "✅ Agent deleted\n",
      "✅ Client closed\n",
      "✅ All resources cleaned up!\n",
      "💡 Downloaded files preserved locally\n",
      "✅ Agent deleted\n",
      "✅ Client closed\n",
      "✅ All resources cleaned up!\n",
      "💡 Downloaded files preserved locally\n"
     ]
    }
   ],
   "source": [
    "# Clean up Azure resources with proper None checks\n",
    "try:\n",
    "    # Delete thread if it exists\n",
    "    if thread is not None:\n",
    "        await thread.delete()\n",
    "        print(\"✅ Thread deleted\")\n",
    "    else:\n",
    "        print(\"ℹ️ Thread already cleaned up\")\n",
    "        \n",
    "    # Delete agent using unified client\n",
    "    if client is not None and agent_definition is not None:\n",
    "        await client.agents.delete_agent(agent_definition.id)\n",
    "        print(\"✅ Agent deleted\")\n",
    "    else:\n",
    "        print(\"ℹ️ Agent already cleaned up\")\n",
    "        \n",
    "    # Close unified client if it exists\n",
    "    if client is not None:\n",
    "        await client.__aexit__(None, None, None)\n",
    "        print(\"✅ Client closed\")\n",
    "        \n",
    "except Exception as e:\n",
    "    print(f\"⚠️ Cleanup error (continuing): {e}\")\n",
    "\n",
    "# Reset variables to None\n",
    "thread = None\n",
    "agent = None\n",
    "client = None\n",
    "agent_definition = None\n",
    "file_ids = None\n",
    "\n",
    "print(\"✅ All resources cleaned up!\")\n",
    "print(\"💡 Downloaded files preserved locally\")"
   ]
  }
 ],
 "metadata": {
  "kernelspec": {
   "display_name": "Python 3",
   "language": "python",
   "name": "python3"
  },
  "language_info": {
   "codemirror_mode": {
    "name": "ipython",
    "version": 3
   },
   "file_extension": ".py",
   "mimetype": "text/x-python",
   "name": "python",
   "nbconvert_exporter": "python",
   "pygments_lexer": "ipython3",
   "version": "3.13.7"
  }
 },
 "nbformat": 4,
 "nbformat_minor": 5
}
